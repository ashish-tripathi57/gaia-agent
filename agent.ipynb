{
 "cells": [
  {
   "cell_type": "code",
   "execution_count": 1,
   "id": "c16e5149",
   "metadata": {},
   "outputs": [
    {
     "name": "stderr",
     "output_type": "stream",
     "text": [
      "2025-05-20 17:58:25,246 - agent - INFO - Generated Mermaid diagram\n",
      "2025-05-20 17:58:25,247 - agent - INFO - Graph diagram saved as graph_diagram.mmd\n",
      "2025-05-20 17:58:25,248 - agent - INFO - BasicAgent with LangGraph initialized.\n",
      "2025-05-20 17:58:25,249 - agent - INFO - Agent thread ID: 252c54bd-5024-43ac-9221-bc66b1eb3376\n"
     ]
    }
   ],
   "source": [
    "from agent import BasicAgent\n",
    "agent = BasicAgent()"
   ]
  },
  {
   "cell_type": "code",
   "execution_count": 2,
   "id": "c7be3d77",
   "metadata": {},
   "outputs": [
    {
     "name": "stderr",
     "output_type": "stream",
     "text": [
      "2025-05-20 17:58:26,208 - agent - INFO - Agent received question: How many studio albums were published by Mercedes ...\n",
      "2025-05-20 17:58:26,302 - agent - INFO - Assistant node processing\n",
      "2025-05-20 17:58:33,387 - agent - INFO - Assistant node processing\n",
      "2025-05-20 17:58:34,983 - agent - INFO - Agent returning AI response\n"
     ]
    },
    {
     "data": {
      "text/plain": [
       "'Based on the Wikipedia discography, Mercedes Sosa released the following studio albums between 2000 and 2009:\\n\\n*   2005: Corazón Libre\\n*   2009: Cantora 1 (w/various artists)\\n*   2009: Cantora 2 (w/various artists)\\n\\nTherefore, the total number of studio albums released in that period is 3.\\n\\nFINAL ANSWER: 3'"
      ]
     },
     "execution_count": 2,
     "metadata": {},
     "output_type": "execute_result"
    }
   ],
   "source": [
    "task_id = \"8e867cd7-cff9-4e6c-867a-ff5ddc2550be\"\n",
    "question = \"How many studio albums were published by Mercedes Sosa between 2000 and 2009 (included)? You can use the latest 2022 version of english wikipedia.\"\n",
    "agent(question=question, task_id=task_id)"
   ]
  },
  {
   "cell_type": "code",
   "execution_count": null,
   "id": "08d5a016",
   "metadata": {},
   "outputs": [],
   "source": []
  }
 ],
 "metadata": {
  "kernelspec": {
   "display_name": ".venv",
   "language": "python",
   "name": "python3"
  },
  "language_info": {
   "codemirror_mode": {
    "name": "ipython",
    "version": 3
   },
   "file_extension": ".py",
   "mimetype": "text/x-python",
   "name": "python",
   "nbconvert_exporter": "python",
   "pygments_lexer": "ipython3",
   "version": "3.13.1"
  }
 },
 "nbformat": 4,
 "nbformat_minor": 5
}
